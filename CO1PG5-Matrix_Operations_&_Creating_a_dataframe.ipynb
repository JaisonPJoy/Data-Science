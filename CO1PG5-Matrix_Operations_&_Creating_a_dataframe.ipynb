{
  "nbformat": 4,
  "nbformat_minor": 0,
  "metadata": {
    "colab": {
      "name": "Copy of CO-1 Matrix Operations & Creating a dataframe-StudentCopy",
      "provenance": [],
      "collapsed_sections": [],
      "include_colab_link": true
    },
    "kernelspec": {
      "name": "python3",
      "display_name": "Python 3"
    }
  },
  "cells": [
    {
      "cell_type": "markdown",
      "metadata": {
        "id": "view-in-github",
        "colab_type": "text"
      },
      "source": [
        "<a href=\"https://colab.research.google.com/github/JaisonPJoy/Data-Science/blob/main/CO1PG5-Matrix_Operations_%26_Creating_a_dataframe.ipynb\" target=\"_parent\"><img src=\"https://colab.research.google.com/assets/colab-badge.svg\" alt=\"Open In Colab\"/></a>"
      ]
    },
    {
      "cell_type": "markdown",
      "metadata": {
        "id": "2FbiXuSJANTj"
      },
      "source": [
        "#  Matrix Operations"
      ]
    },
    {
      "cell_type": "markdown",
      "metadata": {
        "id": "a7HGCnyGS_tA"
      },
      "source": [
        "#### Matrices"
      ]
    },
    {
      "cell_type": "code",
      "metadata": {
        "id": "epy_5UAiM5va",
        "colab": {
          "base_uri": "https://localhost:8080/"
        },
        "outputId": "a4122c89-4923-4b3a-daad-05b53cd916e8"
      },
      "source": [
        "# Create a matrix using the 'matrix()' function of the 'numpy' module.\n",
        "import numpy as np\n",
        "x = np.matrix('1 2 3 ; 4 5 6 ; 7 8 9')\n",
        "print(x)\n"
      ],
      "execution_count": null,
      "outputs": [
        {
          "output_type": "stream",
          "name": "stdout",
          "text": [
            "[[1 2 3]\n",
            " [4 5 6]\n",
            " [7 8 9]]\n"
          ]
        }
      ]
    },
    {
      "cell_type": "code",
      "metadata": {
        "id": "vNZ6B267NSBn",
        "colab": {
          "base_uri": "https://localhost:8080/"
        },
        "outputId": "e2d94c9c-cdd1-4af2-a491-eac88ec8edb6"
      },
      "source": [
        "# Convert a nested Python list into a matrix using the 'matrix()' function of the 'numpy' module.\n",
        "y = np.matrix([[1, 2, 3], [4, 5, 6], [7, 8, 9]])\n",
        "print(y)"
      ],
      "execution_count": null,
      "outputs": [
        {
          "output_type": "stream",
          "name": "stdout",
          "text": [
            "[[1 2 3]\n",
            " [4 5 6]\n",
            " [7 8 9]]\n"
          ]
        }
      ]
    },
    {
      "cell_type": "markdown",
      "metadata": {
        "id": "aMYY5QGVS7AR"
      },
      "source": [
        "#### Matrix Multiplication\n"
      ]
    },
    {
      "cell_type": "markdown",
      "metadata": {
        "id": "F02GWaeOOv8B"
      },
      "source": [
        "\n",
        "$$\\begin{bmatrix} 8 & 7 \\\\ 3\t& -5\t\\\\\\end{bmatrix} \\begin{bmatrix} 3 \\\\ 2 \\\\\\end{bmatrix}$$\n",
        "\n",
        "To multiply two matrices, you have to use the `matmul()` function of the `numpy` module. It takes two matrices to be multiplied as inputs and returns a new matrix."
      ]
    },
    {
      "cell_type": "code",
      "metadata": {
        "id": "LXouPp0rNmfl",
        "colab": {
          "base_uri": "https://localhost:8080/"
        },
        "outputId": "2ee0b82c-eeef-4c7b-fc41-d168f152087f"
      },
      "source": [
        "# Multiplication of the above two matrices.\n",
        "m1 = np.matrix('8 7 ; 3 -5')\n",
        "m2 = np.matrix('3 ; 2')\n",
        "res = np.matmul(m1, m2)\n",
        "print (res)"
      ],
      "execution_count": null,
      "outputs": [
        {
          "output_type": "stream",
          "name": "stdout",
          "text": [
            "[[38]\n",
            " [-1]]\n"
          ]
        }
      ]
    },
    {
      "cell_type": "markdown",
      "metadata": {
        "id": "25p437ShPXO1"
      },
      "source": [
        "**Note:** The number of columns in the first matrix should be the same as the number of rows in the second matrix. Otherwise, you will get `ValueError`"
      ]
    },
    {
      "cell_type": "markdown",
      "metadata": {
        "id": "plpe2GRqTGlK"
      },
      "source": [
        "####  Identity Matrix"
      ]
    },
    {
      "cell_type": "code",
      "metadata": {
        "id": "6eewfaY_XHFk",
        "colab": {
          "base_uri": "https://localhost:8080/"
        },
        "outputId": "fadf9f89-5ebf-494a-e79b-e57b5c1eca9f"
      },
      "source": [
        "# Create an identity matrix of the dimension 5 and of 'int' type.\n",
        "I = np.identity(5, dtype= int)\n",
        "print(I)"
      ],
      "execution_count": null,
      "outputs": [
        {
          "output_type": "stream",
          "name": "stdout",
          "text": [
            "[[1 0 0 0 0]\n",
            " [0 1 0 0 0]\n",
            " [0 0 1 0 0]\n",
            " [0 0 0 1 0]\n",
            " [0 0 0 0 1]]\n"
          ]
        }
      ]
    },
    {
      "cell_type": "markdown",
      "metadata": {
        "id": "WZQuoEgxX4yz"
      },
      "source": [
        "Now let's multiply a square matrix with an identity matrix of the same dimension (say 3)."
      ]
    },
    {
      "cell_type": "code",
      "metadata": {
        "id": "D44dik-GWOzp",
        "colab": {
          "base_uri": "https://localhost:8080/"
        },
        "outputId": "c540c1d6-9cbd-49eb-f82f-39dcf54c6d10"
      },
      "source": [
        "# Multiply a square matrix with an identity matrix of the same dimension.\n",
        "x = np.matrix('1 2 3 ; 4 5 6 ; 7 8 9')\n",
        "I = np.identity(3, dtype=int)\n",
        "res = np.matmul(I,x)\n",
        "print(res)"
      ],
      "execution_count": null,
      "outputs": [
        {
          "output_type": "stream",
          "name": "stdout",
          "text": [
            "[[1 2 3]\n",
            " [4 5 6]\n",
            " [7 8 9]]\n"
          ]
        }
      ]
    },
    {
      "cell_type": "markdown",
      "metadata": {
        "id": "vkRY_gZbM1gX"
      },
      "source": [
        "----"
      ]
    },
    {
      "cell_type": "markdown",
      "metadata": {
        "id": "DoLDbDJ-YUj0"
      },
      "source": [
        "####  Multiplicative Inverse of a Matrix^\n",
        "\n",
        "\n",
        "Eg. let $A$ be a matrix of dimension $3$\n",
        "\n",
        "$$A = \\begin{bmatrix} 1 & 3 & 3 \\\\ 1 & 4 & 3 \\\\ 1 & 3 & 4 \\\\\\end{bmatrix}$$\n",
        "\n",
        "Then its inverse is\n",
        "\n",
        "$$A^{-1} = \\begin{bmatrix} 7 & - 3 & -3 \\\\ -1 & 1 & 0 \\\\ -1 & 0 & 1 \\\\\\end{bmatrix}$$\n",
        "\n",
        "Both $A$ and $A^{-1}$ have the same dimension.\n",
        "\n",
        "If you multiply the matrix $A$ with its inverse, you should get the identity matrix of dimension $3$.\n",
        "\n",
        "$$A^{-1} A = \\begin{bmatrix} 7 & - 3 & -3 \\\\ -1 & 1 & 0 \\\\ -1 & 0 & 1 \\\\\\end{bmatrix} \\begin{bmatrix} 1 & 3 & 3 \\\\ 1 & 4 & 3 \\\\ 1 & 3 & 4 \\\\\\end{bmatrix}$$\n",
        "\n",
        "$$\\Rightarrow A^{-1}A = \\begin{bmatrix} 7 \\times 1 - 3 \\times 1 -3 \\times 1 &7 \\times 3 - 3 \\times 4 -3 \\times 3 & 7 \\times 3 - 3 \\times 3 - 3 \\times 4 \\\\ -1 \\times 1 + 1 \\times 1 + 0 \\times 1 & -1 \\times 3 + 1 \\times 4 + 0 \\times 3 & -1 \\times 3 + 1 \\times 3 + 0 \\times 4 \\\\ -1 \\times 1 + 0 \\times 1 + 1 \\times 1 & -1 \\times 3 + 0 \\times 4 + 1 \\times 3 & -1 \\times 3 + 0 \\times 3 + 1 \\times 4 \\\\\\end{bmatrix}$$\n",
        "\n",
        "$$\\Rightarrow A^{-1}A = \\begin{bmatrix} 1 & 0 & 0 \\\\ 0 & 1 & 0 \\\\ 0 & 0 & 1 \\\\\\end{bmatrix}$$\n"
      ]
    },
    {
      "cell_type": "code",
      "metadata": {
        "id": "LwCmDs6_MXCn",
        "colab": {
          "base_uri": "https://localhost:8080/"
        },
        "outputId": "2599942b-a019-4621-9cb0-4baddfacb124"
      },
      "source": [
        "#Multiply the above matrix with its inverse.\n",
        "m1 = np.matrix('1 3 3; 1 4 3; 1 3 4')\n",
        "mIn = np.linalg.inv(m1)\n",
        "res = np.matmul(m1, mIn)\n",
        "print(res)"
      ],
      "execution_count": null,
      "outputs": [
        {
          "output_type": "stream",
          "name": "stdout",
          "text": [
            "[[1. 0. 0.]\n",
            " [0. 1. 0.]\n",
            " [0. 0. 1.]]\n"
          ]
        }
      ]
    },
    {
      "cell_type": "markdown",
      "metadata": {
        "id": "6dGeH1NbkZZl"
      },
      "source": [
        "#### Determinant of a Matrix^^\n",
        "\n",
        "\n",
        "$$X = \\begin{bmatrix} 8 & 7 \\\\ 3\t& -5 \\\\\\end{bmatrix}$$\n",
        "\n",
        " To calculate the determinant value of a square matrix, use the `linalg.det()` function of the `numpy` module.\n",
        "\n",
        "**Syntax:** `np.linalg.det(a)`\n",
        "\n",
        "where `a` is some square matrix."
      ]
    },
    {
      "cell_type": "code",
      "metadata": {
        "id": "Ai-xRdWtzXOu",
        "colab": {
          "base_uri": "https://localhost:8080/"
        },
        "outputId": "b8871f3c-ece6-41cf-c777-fde13fbbeac0"
      },
      "source": [
        "# Calculate the determinant of the matrix X.\n",
        "X = np.matrix('8 7; 3 -5')\n",
        "det = np.linalg.det(X)\n",
        "print (det)"
      ],
      "execution_count": null,
      "outputs": [
        {
          "output_type": "stream",
          "name": "stdout",
          "text": [
            "-60.99999999999995\n"
          ]
        }
      ]
    },
    {
      "cell_type": "markdown",
      "metadata": {
        "id": "-Y5wSAT5bios"
      },
      "source": [
        "Let's calculate the determinant of the matrix\n",
        "\n",
        "$$A = \\begin{bmatrix} 1 & 3 & 3 \\\\ 1 & 4 & 3 \\\\ 1 & 3 & 4 \\\\\\end{bmatrix}$$\n",
        "\n",
        "using Python."
      ]
    },
    {
      "cell_type": "code",
      "metadata": {
        "id": "20_XDKC4Az-g",
        "colab": {
          "base_uri": "https://localhost:8080/"
        },
        "outputId": "529d4a80-559f-4b66-b61c-96f988b80996"
      },
      "source": [
        "#Calculate the determinant of the above matrix A.\n",
        "A = np.matrix('1 3 3 ; 1 4 3; 1 3 4')\n",
        "Adet = np.linalg.det(A)\n",
        "print(Adet)"
      ],
      "execution_count": null,
      "outputs": [
        {
          "output_type": "stream",
          "name": "stdout",
          "text": [
            "1.0\n"
          ]
        }
      ]
    },
    {
      "cell_type": "code",
      "metadata": {
        "id": "jSCBQqbWL8Ul",
        "colab": {
          "base_uri": "https://localhost:8080/"
        },
        "outputId": "3b583065-be87-421b-a594-5994816e3682"
      },
      "source": [
        "# Calculate the inverse of the above matrix A.\n",
        "Ain = np.linalg.inv(A)\n",
        "print(Ain)"
      ],
      "execution_count": null,
      "outputs": [
        {
          "output_type": "stream",
          "name": "stdout",
          "text": [
            "[[ 7. -3. -3.]\n",
            " [-1.  1.  0.]\n",
            " [-1.  0.  1.]]\n"
          ]
        }
      ]
    },
    {
      "cell_type": "code",
      "metadata": {
        "id": "-9gj_oaLehon",
        "colab": {
          "base_uri": "https://localhost:8080/",
          "height": 206
        },
        "outputId": "5fe67c08-7a7d-4059-f611-dfdd67534318"
      },
      "source": [
        "#Create a dictionary to store weatherdata and convert it to a dtaframe\n",
        "import pandas as pd\n",
        "weatherdata = { 'Day':['Monday', 'Tuesday', 'Wednesday', 'Thursday', 'Friday', 'Saturday', 'Sunday'],\n",
        "               'City':['Muvattupuzha','Kollam','Kochi','Ernakulam','Kottayam','Iduki', 'Kannur'],\n",
        "               'Temperature':[20, 30, 40, 50, 70, 60, 28],\n",
        "               'WindSpeed': [50, 45, 60, 28, 90, 28, 50]\n",
        "               }\n",
        "wData = pd.DataFrame(weatherdata)\n",
        "# Display the first five rows of dataframe\n",
        "wData.head()"
      ],
      "execution_count": null,
      "outputs": [
        {
          "output_type": "execute_result",
          "data": {
            "text/html": [
              "<div>\n",
              "<style scoped>\n",
              "    .dataframe tbody tr th:only-of-type {\n",
              "        vertical-align: middle;\n",
              "    }\n",
              "\n",
              "    .dataframe tbody tr th {\n",
              "        vertical-align: top;\n",
              "    }\n",
              "\n",
              "    .dataframe thead th {\n",
              "        text-align: right;\n",
              "    }\n",
              "</style>\n",
              "<table border=\"1\" class=\"dataframe\">\n",
              "  <thead>\n",
              "    <tr style=\"text-align: right;\">\n",
              "      <th></th>\n",
              "      <th>Day</th>\n",
              "      <th>City</th>\n",
              "      <th>Temperature</th>\n",
              "      <th>WindSpeed</th>\n",
              "    </tr>\n",
              "  </thead>\n",
              "  <tbody>\n",
              "    <tr>\n",
              "      <th>0</th>\n",
              "      <td>Monday</td>\n",
              "      <td>Muvattupuzha</td>\n",
              "      <td>20</td>\n",
              "      <td>50</td>\n",
              "    </tr>\n",
              "    <tr>\n",
              "      <th>1</th>\n",
              "      <td>Tuesday</td>\n",
              "      <td>Kollam</td>\n",
              "      <td>30</td>\n",
              "      <td>45</td>\n",
              "    </tr>\n",
              "    <tr>\n",
              "      <th>2</th>\n",
              "      <td>Wednesday</td>\n",
              "      <td>Kochi</td>\n",
              "      <td>40</td>\n",
              "      <td>60</td>\n",
              "    </tr>\n",
              "    <tr>\n",
              "      <th>3</th>\n",
              "      <td>Thursday</td>\n",
              "      <td>Ernakulam</td>\n",
              "      <td>50</td>\n",
              "      <td>28</td>\n",
              "    </tr>\n",
              "    <tr>\n",
              "      <th>4</th>\n",
              "      <td>Friday</td>\n",
              "      <td>Kottayam</td>\n",
              "      <td>70</td>\n",
              "      <td>90</td>\n",
              "    </tr>\n",
              "  </tbody>\n",
              "</table>\n",
              "</div>"
            ],
            "text/plain": [
              "         Day          City  Temperature  WindSpeed\n",
              "0     Monday  Muvattupuzha           20         50\n",
              "1    Tuesday        Kollam           30         45\n",
              "2  Wednesday         Kochi           40         60\n",
              "3   Thursday     Ernakulam           50         28\n",
              "4     Friday      Kottayam           70         90"
            ]
          },
          "metadata": {},
          "execution_count": 29
        }
      ]
    },
    {
      "cell_type": "code",
      "metadata": {
        "colab": {
          "base_uri": "https://localhost:8080/",
          "height": 206
        },
        "id": "7axPlDxi3M5-",
        "outputId": "96e73d3d-dc93-46bf-b82c-3b46cf38cdaf"
      },
      "source": [
        "#Display the last five rows of dataframe\n",
        "\n",
        "wData.tail()"
      ],
      "execution_count": null,
      "outputs": [
        {
          "output_type": "execute_result",
          "data": {
            "text/html": [
              "<div>\n",
              "<style scoped>\n",
              "    .dataframe tbody tr th:only-of-type {\n",
              "        vertical-align: middle;\n",
              "    }\n",
              "\n",
              "    .dataframe tbody tr th {\n",
              "        vertical-align: top;\n",
              "    }\n",
              "\n",
              "    .dataframe thead th {\n",
              "        text-align: right;\n",
              "    }\n",
              "</style>\n",
              "<table border=\"1\" class=\"dataframe\">\n",
              "  <thead>\n",
              "    <tr style=\"text-align: right;\">\n",
              "      <th></th>\n",
              "      <th>Day</th>\n",
              "      <th>Temperature</th>\n",
              "      <th>WindSpeed</th>\n",
              "    </tr>\n",
              "  </thead>\n",
              "  <tbody>\n",
              "    <tr>\n",
              "      <th>2</th>\n",
              "      <td>Wednesday</td>\n",
              "      <td>40</td>\n",
              "      <td>60</td>\n",
              "    </tr>\n",
              "    <tr>\n",
              "      <th>3</th>\n",
              "      <td>Thursday</td>\n",
              "      <td>50</td>\n",
              "      <td>28</td>\n",
              "    </tr>\n",
              "    <tr>\n",
              "      <th>4</th>\n",
              "      <td>Friday</td>\n",
              "      <td>70</td>\n",
              "      <td>90</td>\n",
              "    </tr>\n",
              "    <tr>\n",
              "      <th>5</th>\n",
              "      <td>Saturday</td>\n",
              "      <td>60</td>\n",
              "      <td>28</td>\n",
              "    </tr>\n",
              "    <tr>\n",
              "      <th>6</th>\n",
              "      <td>Sunday</td>\n",
              "      <td>28</td>\n",
              "      <td>50</td>\n",
              "    </tr>\n",
              "  </tbody>\n",
              "</table>\n",
              "</div>"
            ],
            "text/plain": [
              "         Day  Temperature  WindSpeed\n",
              "2  Wednesday           40         60\n",
              "3   Thursday           50         28\n",
              "4     Friday           70         90\n",
              "5   Saturday           60         28\n",
              "6     Sunday           28         50"
            ]
          },
          "metadata": {},
          "execution_count": 25
        }
      ]
    }
  ]
}