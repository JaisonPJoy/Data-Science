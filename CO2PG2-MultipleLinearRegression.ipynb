{
  "nbformat": 4,
  "nbformat_minor": 0,
  "metadata": {
    "colab": {
      "name": "MultipleLinearRegression - jaison",
      "provenance": [],
      "collapsed_sections": [],
      "include_colab_link": true
    },
    "kernelspec": {
      "name": "python3",
      "display_name": "Python 3"
    }
  },
  "cells": [
    {
      "cell_type": "markdown",
      "metadata": {
        "id": "view-in-github",
        "colab_type": "text"
      },
      "source": [
        "<a href=\"https://colab.research.google.com/github/JaisonPJoy/Data-Science/blob/main/CO2PG2-MultipleLinearRegression.ipynb\" target=\"_parent\"><img src=\"https://colab.research.google.com/assets/colab-badge.svg\" alt=\"Open In Colab\"/></a>"
      ]
    },
    {
      "cell_type": "markdown",
      "metadata": {
        "id": "2FbiXuSJANTj"
      },
      "source": [
        "\n",
        "# MultipleLinearRegression"
      ]
    },
    {
      "cell_type": "markdown",
      "metadata": {
        "id": "XpefFKryHnV_"
      },
      "source": [
        "**Program to implement multiple linear regression technique using any standard dataset available in the public domain and evaluate its performance.**\n",
        "\n",
        "\n",
        "\n",
        "The description for all the columns containing data for air pollutants, temperature, relative humidity and absolute humidity is provided below.\n",
        "\n",
        "\n",
        "|Columns|Description|\n",
        "|-|-|\n",
        "|PT08.S1(CO)|PT08.S1 (tin oxide) hourly averaged sensor response (nominally $\\text{CO}$ targeted)|\n",
        "|C6H6(GT)|True hourly averaged Benzene concentration in $\\frac{\\mu g}{m^3}$|\n",
        "|PT08.S2(NMHC)|PT08.S2 (titania) hourly averaged sensor response (nominally $\\text{NMHC}$ targeted)|\n",
        "|PT08.S3(NOx)|PT08.S3 (tungsten oxide) hourly averaged sensor response (nominally $\\text{NO}_x$ targeted)|\n",
        "|PT08.S4(NO2)|PT08.S4 (tungsten oxide) hourly averaged sensor response (nominally $\\text{NO}_2$ targeted)|\n",
        "|PT08.S5(O3) |PT08.S5 (indium oxide) hourly averaged sensor response (nominally $\\text{O}_3$ targeted)|\n",
        "|T|Temperature in Â°C|\n",
        "|RH|Relative Humidity (%)|\n",
        "|AH|AH Absolute Humidity|"
      ]
    },
    {
      "cell_type": "markdown",
      "metadata": {
        "id": "AsKszxp14Cj8"
      },
      "source": [
        "---"
      ]
    },
    {
      "cell_type": "markdown",
      "metadata": {
        "id": "6myfsJox3Tz2"
      },
      "source": [
        "#### Multiple Linear Regression Model Using `sklearn` Module\n"
      ]
    },
    {
      "cell_type": "code",
      "source": [
        "#Load Dataset & display 1st 5 rows. Github link is as follows:\n",
        "# https://raw.githubusercontent.com/jiss-sngce/air/main/airquality.csv.csv\n",
        "import pandas as pd\n",
        "df = pd.read_csv('https://raw.githubusercontent.com/jiss-sngce/air/main/airquality.csv.csv')\n",
        "df.head()"
      ],
      "metadata": {
        "id": "OQgFJ4Xcogb-",
        "colab": {
          "base_uri": "https://localhost:8080/",
          "height": 206
        },
        "outputId": "832a3e19-c75d-4086-c788-7b8aafbea9f9"
      },
      "execution_count": null,
      "outputs": [
        {
          "output_type": "execute_result",
          "data": {
            "text/html": [
              "\n",
              "  <div id=\"df-ec878916-57bf-43a6-840c-8102a8c9c133\">\n",
              "    <div class=\"colab-df-container\">\n",
              "      <div>\n",
              "<style scoped>\n",
              "    .dataframe tbody tr th:only-of-type {\n",
              "        vertical-align: middle;\n",
              "    }\n",
              "\n",
              "    .dataframe tbody tr th {\n",
              "        vertical-align: top;\n",
              "    }\n",
              "\n",
              "    .dataframe thead th {\n",
              "        text-align: right;\n",
              "    }\n",
              "</style>\n",
              "<table border=\"1\" class=\"dataframe\">\n",
              "  <thead>\n",
              "    <tr style=\"text-align: right;\">\n",
              "      <th></th>\n",
              "      <th>DateTime</th>\n",
              "      <th>PT08.S1(CO)</th>\n",
              "      <th>C6H6(GT)</th>\n",
              "      <th>PT08.S2(NMHC)</th>\n",
              "      <th>PT08.S3(NOx)</th>\n",
              "      <th>PT08.S4(NO2)</th>\n",
              "      <th>PT08.S5(O3)</th>\n",
              "      <th>T</th>\n",
              "      <th>RH</th>\n",
              "      <th>AH</th>\n",
              "      <th>Year</th>\n",
              "      <th>Month</th>\n",
              "      <th>Day</th>\n",
              "      <th>Day Name</th>\n",
              "    </tr>\n",
              "  </thead>\n",
              "  <tbody>\n",
              "    <tr>\n",
              "      <th>0</th>\n",
              "      <td>2004-03-10 18:00:00</td>\n",
              "      <td>1360.0</td>\n",
              "      <td>11.9</td>\n",
              "      <td>1046.0</td>\n",
              "      <td>1056.0</td>\n",
              "      <td>1692.0</td>\n",
              "      <td>1268.0</td>\n",
              "      <td>13.6</td>\n",
              "      <td>48.9</td>\n",
              "      <td>0.7578</td>\n",
              "      <td>2004</td>\n",
              "      <td>3</td>\n",
              "      <td>10</td>\n",
              "      <td>Wednesday</td>\n",
              "    </tr>\n",
              "    <tr>\n",
              "      <th>1</th>\n",
              "      <td>2004-03-10 19:00:00</td>\n",
              "      <td>1292.0</td>\n",
              "      <td>9.4</td>\n",
              "      <td>955.0</td>\n",
              "      <td>1174.0</td>\n",
              "      <td>1559.0</td>\n",
              "      <td>972.0</td>\n",
              "      <td>13.3</td>\n",
              "      <td>47.7</td>\n",
              "      <td>0.7255</td>\n",
              "      <td>2004</td>\n",
              "      <td>3</td>\n",
              "      <td>10</td>\n",
              "      <td>Wednesday</td>\n",
              "    </tr>\n",
              "    <tr>\n",
              "      <th>2</th>\n",
              "      <td>2004-03-10 20:00:00</td>\n",
              "      <td>1402.0</td>\n",
              "      <td>9.0</td>\n",
              "      <td>939.0</td>\n",
              "      <td>1140.0</td>\n",
              "      <td>1555.0</td>\n",
              "      <td>1074.0</td>\n",
              "      <td>11.9</td>\n",
              "      <td>54.0</td>\n",
              "      <td>0.7502</td>\n",
              "      <td>2004</td>\n",
              "      <td>3</td>\n",
              "      <td>10</td>\n",
              "      <td>Wednesday</td>\n",
              "    </tr>\n",
              "    <tr>\n",
              "      <th>3</th>\n",
              "      <td>2004-03-10 21:00:00</td>\n",
              "      <td>1376.0</td>\n",
              "      <td>9.2</td>\n",
              "      <td>948.0</td>\n",
              "      <td>1092.0</td>\n",
              "      <td>1584.0</td>\n",
              "      <td>1203.0</td>\n",
              "      <td>11.0</td>\n",
              "      <td>60.0</td>\n",
              "      <td>0.7867</td>\n",
              "      <td>2004</td>\n",
              "      <td>3</td>\n",
              "      <td>10</td>\n",
              "      <td>Wednesday</td>\n",
              "    </tr>\n",
              "    <tr>\n",
              "      <th>4</th>\n",
              "      <td>2004-03-10 22:00:00</td>\n",
              "      <td>1272.0</td>\n",
              "      <td>6.5</td>\n",
              "      <td>836.0</td>\n",
              "      <td>1205.0</td>\n",
              "      <td>1490.0</td>\n",
              "      <td>1110.0</td>\n",
              "      <td>11.2</td>\n",
              "      <td>59.6</td>\n",
              "      <td>0.7888</td>\n",
              "      <td>2004</td>\n",
              "      <td>3</td>\n",
              "      <td>10</td>\n",
              "      <td>Wednesday</td>\n",
              "    </tr>\n",
              "  </tbody>\n",
              "</table>\n",
              "</div>\n",
              "      <button class=\"colab-df-convert\" onclick=\"convertToInteractive('df-ec878916-57bf-43a6-840c-8102a8c9c133')\"\n",
              "              title=\"Convert this dataframe to an interactive table.\"\n",
              "              style=\"display:none;\">\n",
              "        \n",
              "  <svg xmlns=\"http://www.w3.org/2000/svg\" height=\"24px\"viewBox=\"0 0 24 24\"\n",
              "       width=\"24px\">\n",
              "    <path d=\"M0 0h24v24H0V0z\" fill=\"none\"/>\n",
              "    <path d=\"M18.56 5.44l.94 2.06.94-2.06 2.06-.94-2.06-.94-.94-2.06-.94 2.06-2.06.94zm-11 1L8.5 8.5l.94-2.06 2.06-.94-2.06-.94L8.5 2.5l-.94 2.06-2.06.94zm10 10l.94 2.06.94-2.06 2.06-.94-2.06-.94-.94-2.06-.94 2.06-2.06.94z\"/><path d=\"M17.41 7.96l-1.37-1.37c-.4-.4-.92-.59-1.43-.59-.52 0-1.04.2-1.43.59L10.3 9.45l-7.72 7.72c-.78.78-.78 2.05 0 2.83L4 21.41c.39.39.9.59 1.41.59.51 0 1.02-.2 1.41-.59l7.78-7.78 2.81-2.81c.8-.78.8-2.07 0-2.86zM5.41 20L4 18.59l7.72-7.72 1.47 1.35L5.41 20z\"/>\n",
              "  </svg>\n",
              "      </button>\n",
              "      \n",
              "  <style>\n",
              "    .colab-df-container {\n",
              "      display:flex;\n",
              "      flex-wrap:wrap;\n",
              "      gap: 12px;\n",
              "    }\n",
              "\n",
              "    .colab-df-convert {\n",
              "      background-color: #E8F0FE;\n",
              "      border: none;\n",
              "      border-radius: 50%;\n",
              "      cursor: pointer;\n",
              "      display: none;\n",
              "      fill: #1967D2;\n",
              "      height: 32px;\n",
              "      padding: 0 0 0 0;\n",
              "      width: 32px;\n",
              "    }\n",
              "\n",
              "    .colab-df-convert:hover {\n",
              "      background-color: #E2EBFA;\n",
              "      box-shadow: 0px 1px 2px rgba(60, 64, 67, 0.3), 0px 1px 3px 1px rgba(60, 64, 67, 0.15);\n",
              "      fill: #174EA6;\n",
              "    }\n",
              "\n",
              "    [theme=dark] .colab-df-convert {\n",
              "      background-color: #3B4455;\n",
              "      fill: #D2E3FC;\n",
              "    }\n",
              "\n",
              "    [theme=dark] .colab-df-convert:hover {\n",
              "      background-color: #434B5C;\n",
              "      box-shadow: 0px 1px 3px 1px rgba(0, 0, 0, 0.15);\n",
              "      filter: drop-shadow(0px 1px 2px rgba(0, 0, 0, 0.3));\n",
              "      fill: #FFFFFF;\n",
              "    }\n",
              "  </style>\n",
              "\n",
              "      <script>\n",
              "        const buttonEl =\n",
              "          document.querySelector('#df-ec878916-57bf-43a6-840c-8102a8c9c133 button.colab-df-convert');\n",
              "        buttonEl.style.display =\n",
              "          google.colab.kernel.accessAllowed ? 'block' : 'none';\n",
              "\n",
              "        async function convertToInteractive(key) {\n",
              "          const element = document.querySelector('#df-ec878916-57bf-43a6-840c-8102a8c9c133');\n",
              "          const dataTable =\n",
              "            await google.colab.kernel.invokeFunction('convertToInteractive',\n",
              "                                                     [key], {});\n",
              "          if (!dataTable) return;\n",
              "\n",
              "          const docLinkHtml = 'Like what you see? Visit the ' +\n",
              "            '<a target=\"_blank\" href=https://colab.research.google.com/notebooks/data_table.ipynb>data table notebook</a>'\n",
              "            + ' to learn more about interactive tables.';\n",
              "          element.innerHTML = '';\n",
              "          dataTable['output_type'] = 'display_data';\n",
              "          await google.colab.output.renderOutput(dataTable, element);\n",
              "          const docLink = document.createElement('div');\n",
              "          docLink.innerHTML = docLinkHtml;\n",
              "          element.appendChild(docLink);\n",
              "        }\n",
              "      </script>\n",
              "    </div>\n",
              "  </div>\n",
              "  "
            ],
            "text/plain": [
              "              DateTime  PT08.S1(CO)  C6H6(GT)  ...  Month  Day   Day Name\n",
              "0  2004-03-10 18:00:00       1360.0      11.9  ...      3   10  Wednesday\n",
              "1  2004-03-10 19:00:00       1292.0       9.4  ...      3   10  Wednesday\n",
              "2  2004-03-10 20:00:00       1402.0       9.0  ...      3   10  Wednesday\n",
              "3  2004-03-10 21:00:00       1376.0       9.2  ...      3   10  Wednesday\n",
              "4  2004-03-10 22:00:00       1272.0       6.5  ...      3   10  Wednesday\n",
              "\n",
              "[5 rows x 14 columns]"
            ]
          },
          "metadata": {},
          "execution_count": 31
        }
      ]
    },
    {
      "cell_type": "code",
      "source": [
        "#Display the columns in dataframe\n",
        "df.columns"
      ],
      "metadata": {
        "id": "ddPjov2mRHUd",
        "colab": {
          "base_uri": "https://localhost:8080/"
        },
        "outputId": "47c3548a-ad3c-45d5-8e19-31582d7b97de"
      },
      "execution_count": null,
      "outputs": [
        {
          "output_type": "execute_result",
          "data": {
            "text/plain": [
              "Index(['DateTime', 'PT08.S1(CO)', 'C6H6(GT)', 'PT08.S2(NMHC)', 'PT08.S3(NOx)',\n",
              "       'PT08.S4(NO2)', 'PT08.S5(O3)', 'T', 'RH', 'AH', 'Year', 'Month', 'Day',\n",
              "       'Day Name'],\n",
              "      dtype='object')"
            ]
          },
          "metadata": {},
          "execution_count": 32
        }
      ]
    },
    {
      "cell_type": "code",
      "source": [
        "df.info"
      ],
      "metadata": {
        "colab": {
          "base_uri": "https://localhost:8080/"
        },
        "id": "gjpNXh4nyktr",
        "outputId": "1c973272-bf15-40af-a802-fb93af24a6bd"
      },
      "execution_count": null,
      "outputs": [
        {
          "output_type": "execute_result",
          "data": {
            "text/plain": [
              "<bound method DataFrame.info of                  DateTime  PT08.S1(CO)  C6H6(GT)  ...  Month  Day   Day Name\n",
              "0     2004-03-10 18:00:00       1360.0      11.9  ...      3   10  Wednesday\n",
              "1     2004-03-10 19:00:00       1292.0       9.4  ...      3   10  Wednesday\n",
              "2     2004-03-10 20:00:00       1402.0       9.0  ...      3   10  Wednesday\n",
              "3     2004-03-10 21:00:00       1376.0       9.2  ...      3   10  Wednesday\n",
              "4     2004-03-10 22:00:00       1272.0       6.5  ...      3   10  Wednesday\n",
              "...                   ...          ...       ...  ...    ...  ...        ...\n",
              "9352  2005-04-04 10:00:00       1314.0      13.5  ...      4    4     Monday\n",
              "9353  2005-04-04 11:00:00       1163.0      11.4  ...      4    4     Monday\n",
              "9354  2005-04-04 12:00:00       1142.0      12.4  ...      4    4     Monday\n",
              "9355  2005-04-04 13:00:00       1003.0       9.5  ...      4    4     Monday\n",
              "9356  2005-04-04 14:00:00       1071.0      11.9  ...      4    4     Monday\n",
              "\n",
              "[9357 rows x 14 columns]>"
            ]
          },
          "metadata": {},
          "execution_count": 33
        }
      ]
    },
    {
      "cell_type": "code",
      "metadata": {
        "id": "m8d5faFMdTvz",
        "colab": {
          "base_uri": "https://localhost:8080/"
        },
        "outputId": "3d54f2ac-8feb-46f4-fefd-18d626c9ea73"
      },
      "source": [
        "# Build a linear regression model using the sklearn module by including all the features except DateTime,Day Name & RH.\n",
        "from sklearn.model_selection import train_test_split\n",
        "from sklearn.linear_model import LinearRegression\n",
        "\n",
        "features = list(df.columns.values[1:-4])\n",
        "\n",
        "features.remove('RH')\n",
        "print(features)\n",
        "\n",
        "X = df[features]\n",
        "y = df['RH']"
      ],
      "execution_count": null,
      "outputs": [
        {
          "output_type": "stream",
          "name": "stdout",
          "text": [
            "['PT08.S1(CO)', 'C6H6(GT)', 'PT08.S2(NMHC)', 'PT08.S3(NOx)', 'PT08.S4(NO2)', 'PT08.S5(O3)', 'T', 'AH']\n"
          ]
        }
      ]
    },
    {
      "cell_type": "code",
      "source": [
        "# Splitting the DataFrame into the train and test sets.\n",
        "# Test set will have 33% of the values.\n",
        "\n",
        "XTrain, XTest, yTrain, yTest = train_test_split(X, y, test_size = 0.33, random_state = 42)\n",
        "yTrainReshaped = yTrain.values.reshape(-1,1)\n",
        "yTestReshaped = yTest.values.reshape(-1,1)\n",
        "\n",
        "# yTrainReshaped.shape\n",
        "# XTrain.shape"
      ],
      "metadata": {
        "id": "KQN5O96_9Pbp"
      },
      "execution_count": null,
      "outputs": []
    },
    {
      "cell_type": "code",
      "source": [
        "# Build a linear regression model using the 'sklearn.linear_model' module.\n",
        "\n",
        "linReg = LinearRegression()\n",
        "linReg.fit(XTrain, yTrainReshaped)\n",
        "\n",
        "# Print the value of the intercept.\n",
        "\n",
        "print('INTERCEPT--> ', linReg.intercept_)\n"
      ],
      "metadata": {
        "colab": {
          "base_uri": "https://localhost:8080/"
        },
        "id": "b-eRZPNNDzG9",
        "outputId": "5ce68941-0c96-4f5e-c7aa-8ab9fa29f25d"
      },
      "execution_count": null,
      "outputs": [
        {
          "output_type": "stream",
          "name": "stdout",
          "text": [
            "INTERCEPT-->  [34.57305436]\n"
          ]
        }
      ]
    },
    {
      "cell_type": "code",
      "source": [
        "# Print the names of the features along with the values of their corresponding coefficients.\n",
        "\n",
        "print(\"COEFFICIENT--> \",linReg.coef_)\n",
        "for i in list(zip(X.columns.values,linReg.coef_[0])):\n",
        "  print(i[0],\" --> \", i[1])"
      ],
      "metadata": {
        "colab": {
          "base_uri": "https://localhost:8080/"
        },
        "id": "PUv_O96KH9R6",
        "outputId": "65b54dd1-4be6-442d-a798-8ca6c5b428fc"
      },
      "execution_count": null,
      "outputs": [
        {
          "output_type": "stream",
          "name": "stdout",
          "text": [
            "COEFFICIENT-->  [[ 1.03230559e-02 -4.69470990e-01 -4.20228581e-04  6.66680494e-04\n",
            "   9.24589119e-03 -4.54822557e-04 -2.38521173e+00  3.76150339e+01]]\n",
            "PT08.S1(CO)  -->  0.01032305594357359\n",
            "C6H6(GT)  -->  -0.46947099047417595\n",
            "PT08.S2(NMHC)  -->  -0.0004202285808548034\n",
            "PT08.S3(NOx)  -->  0.0006666804942972449\n",
            "PT08.S4(NO2)  -->  0.009245891185224564\n",
            "PT08.S5(O3)  -->  -0.0004548225571515685\n",
            "T  -->  -2.385211734787753\n",
            "AH  -->  37.615033910204126\n"
          ]
        }
      ]
    },
    {
      "cell_type": "code",
      "metadata": {
        "id": "-BxonYJweOlM",
        "colab": {
          "base_uri": "https://localhost:8080/"
        },
        "outputId": "33296308-fb8b-4e9a-8c89-4364844c4598"
      },
      "source": [
        "# Evaluate the linear regression model using the 'r2_score', 'mean_squared_error' & 'mean_absolute_error' functions of the 'sklearn' module.\n",
        "from sklearn.metrics import r2_score, mean_squared_error,mean_absolute_error\n",
        "import numpy as np\n",
        "\n",
        "yTrainPred = linReg.predict(XTrain)\n",
        "yTestPred = linReg.predict(XTest)\n",
        "\n",
        "print('TRAIN DATA SET')\n",
        "print('R2-sCORE --> ',r2_score(yTrainReshaped, yTrainPred))\n",
        "print('MEAN SQUARE ERROR --> ',mean_squared_error(yTrainReshaped, yTrainPred))\n",
        "# np.sqrt(mean_squared_error(yTrainReshaped, yTrainPred))\n",
        "print('MEAN ABSOLUTE ERROR --> ',mean_absolute_error(yTrainReshaped, yTrainPred))\n",
        "\n",
        "print(\"\\n-----------------------------------------------------------------------------------------------\")\n",
        "\n",
        "print('\\nTEST DATA SET')\n",
        "print('R2-sCORE --> ',r2_score(yTestReshaped, yTestPred))\n",
        "print('MEAN SQUARE ERROR --> ',mean_squared_error(yTestReshaped, yTestPred))\n",
        "print('MEAN ABSOLUTE ERROR --> ',mean_absolute_error(yTestReshaped, yTestPred))"
      ],
      "execution_count": null,
      "outputs": [
        {
          "output_type": "stream",
          "name": "stdout",
          "text": [
            "TRAIN DATA SET\n",
            "R2-sCORE -->  0.8697289778155132\n",
            "MEAN SQUARE ERROR -->  37.67070677136997\n",
            "MEAN ABSOLUTE ERROR -->  4.688976086075844\n",
            "\n",
            "-----------------------------------------------------------------------------------------------\n",
            "\n",
            "TEST DATA SET\n",
            "R2-sCORE -->  0.871930547463685\n",
            "MEAN SQUARE ERROR -->  36.63938906768081\n",
            "MEAN ABSOLUTE ERROR -->  4.6619032116666705\n"
          ]
        }
      ]
    }
  ]
}